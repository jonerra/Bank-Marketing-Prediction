{
 "cells": [
  {
   "cell_type": "code",
   "execution_count": 1,
   "metadata": {
    "collapsed": true
   },
   "outputs": [],
   "source": [
    "# Import the needed packages\n",
    "\n",
    "import numpy as np\n",
    "import pandas as pd\n",
    "from sklearn.model_selection import train_test_split\n",
    "from sklearn import preprocessing, neighbors, svm, tree\n",
    "from sklearn.ensemble import RandomForestClassifier\n",
    "from sklearn.linear_model import LinearRegression, LogisticRegression"
   ]
  },
  {
   "cell_type": "code",
   "execution_count": 3,
   "metadata": {
    "collapsed": true
   },
   "outputs": [],
   "source": [
    "# import data from excel to a data frame\n",
    "df = pd.read_csv('bank-full.csv', delimiter=';')\n",
    "\n",
    "# drop columns contact and poutcome as they are missing too much data to add value\n",
    "df = df.drop(['contact', 'poutcome'], 1)\n",
    "\n",
    "# replace unknown values with NaN values for easier use later\n",
    "df.replace('unknown', np.nan, inplace=True)\n",
    "\n",
    "# fill missing values under Job and Eduction with the mode\n",
    "df['job'] = df['job'].fillna(df['job'].mode()[0])\n",
    "df['education'] = df['education'].fillna(df['education'].mode()[0])"
   ]
  },
  {
   "cell_type": "code",
   "execution_count": 4,
   "metadata": {
    "collapsed": false
   },
   "outputs": [
    {
     "name": "stdout",
     "output_type": "stream",
     "text": [
      "   age           job  marital  education default  balance housing loan  day  \\\n",
      "0   58    management  married   tertiary      no     2143     yes   no    5   \n",
      "1   44    technician   single  secondary      no       29     yes   no    5   \n",
      "2   33  entrepreneur  married  secondary      no        2     yes  yes    5   \n",
      "3   47   blue-collar  married  secondary      no     1506     yes   no    5   \n",
      "4   33   blue-collar   single  secondary      no        1      no   no    5   \n",
      "\n",
      "  month  duration  campaign  pdays  previous   y  \n",
      "0   may       261         1     -1         0  no  \n",
      "1   may       151         1     -1         0  no  \n",
      "2   may        76         1     -1         0  no  \n",
      "3   may        92         1     -1         0  no  \n",
      "4   may       198         1     -1         0  no  \n"
     ]
    }
   ],
   "source": [
    "# Print out first 5 rows of our altered data frame\n",
    "print(df.head())"
   ]
  },
  {
   "cell_type": "code",
   "execution_count": 5,
   "metadata": {
    "collapsed": true
   },
   "outputs": [],
   "source": [
    "# Values must be assigned a number value to be used by machine learning algorithms\n",
    "# LabelEncoder assigns variables to numbers for us\n",
    "lbl = preprocessing.LabelEncoder()\n",
    "\n",
    "# Converting job values to integers\n",
    "lbl.fit(np.unique(list(df['job'].values)))\n",
    "df['job'] = lbl.transform(list(df['job'].values))\n",
    "\n",
    "# Converting marital values to integers\n",
    "lbl.fit(np.unique(list(df['marital'].values)))\n",
    "df['marital'] = lbl.transform(list(df['marital'].values))\n",
    "\n",
    "# Converting education values to integers\n",
    "lbl.fit(np.unique(list(df['education'].values)))\n",
    "df['education'] = lbl.transform(list(df['education'].values))\n",
    "\n",
    "# We can also map values to an integer value using a dictionary instead of LabelEncoder\n",
    "# Mapping default values to integers\n",
    "df['default'] = df['default'].map({'no': 0, 'yes': 1, 'unknown': 2})\n",
    "\n",
    "# Mapping housing values to integers\n",
    "df['housing'] = df['housing'].map({'no': 0, 'yes': 1, 'unknown': 2})\n",
    "\n",
    "# Mapping loan values to integers\n",
    "df['loan'] = df['loan'].map({'no': 0, 'yes': 1, 'unknown': 2})\n",
    "\n",
    "# Mapping contact values to integers\n",
    "# df['contact'] = df['contact'].map({'telephone': 0, 'cellular': 1, 'unknown': 2})\n",
    "\n",
    "# Converting month values to integers\n",
    "lbl.fit(np.unique(list(df['month'].values)))\n",
    "df['month'] = lbl.transform(list(df['month'].values))\n",
    "\n",
    "# Converting poutcome values to integers\n",
    "# df['poutcome'] = df['poutcome'].map({'failure': 0, 'success': 1, 'other': 2, 'unknown': 3})"
   ]
  },
  {
   "cell_type": "code",
   "execution_count": 6,
   "metadata": {
    "collapsed": true
   },
   "outputs": [],
   "source": [
    "# Convert our data frame to multidimensional arrays\n",
    "# The X variable is an array of the independent variables and drops column 'y'\n",
    "X = np.array(df.drop(['y'], 1))\n",
    "\n",
    "# The y variable is an array of the dependent variable 'y'\n",
    "y = np.array(df['y'])"
   ]
  },
  {
   "cell_type": "code",
   "execution_count": 7,
   "metadata": {
    "collapsed": true
   },
   "outputs": [],
   "source": [
    "# Shuffle and partition our data into 80% train data and 20% test data.\n",
    "X_train, X_test, y_train, y_test = train_test_split(X, y, test_size=0.2)"
   ]
  },
  {
   "cell_type": "code",
   "execution_count": 8,
   "metadata": {
    "collapsed": true
   },
   "outputs": [],
   "source": [
    "# Choosing which model to use for our data\n",
    "clf = RandomForestClassifier(n_estimators=100)\n",
    "# clf = LogisticRegression()\n",
    "# clf = tree.DecisionTreeClassifier()\n",
    "# clf = LinearRegression()"
   ]
  },
  {
   "cell_type": "code",
   "execution_count": 9,
   "metadata": {
    "collapsed": false
   },
   "outputs": [
    {
     "name": "stdout",
     "output_type": "stream",
     "text": [
      "0.900254340374\n"
     ]
    }
   ],
   "source": [
    "# Training the data\n",
    "clf.fit(X_train, y_train)\n",
    "\n",
    "# Scoring the model\n",
    "accuracy = clf.score(X_test, y_test)\n",
    "\n",
    "# Printing the score of the model\n",
    "print(accuracy)"
   ]
  },
  {
   "cell_type": "code",
   "execution_count": 10,
   "metadata": {
    "collapsed": true
   },
   "outputs": [],
   "source": [
    "# Testing the predictions\n",
    "# prediction = clf.predict(X)\n",
    "# df['y_prediction'] = clf.predict(X)\n",
    "\n",
    "# print(df.head())"
   ]
  },
  {
   "cell_type": "code",
   "execution_count": null,
   "metadata": {
    "collapsed": true
   },
   "outputs": [],
   "source": []
  }
 ],
 "metadata": {
  "anaconda-cloud": {},
  "kernelspec": {
   "display_name": "Python [conda root]",
   "language": "python",
   "name": "conda-root-py"
  },
  "language_info": {
   "codemirror_mode": {
    "name": "ipython",
    "version": 3
   },
   "file_extension": ".py",
   "mimetype": "text/x-python",
   "name": "python",
   "nbconvert_exporter": "python",
   "pygments_lexer": "ipython3",
   "version": "3.5.2"
  }
 },
 "nbformat": 4,
 "nbformat_minor": 1
}
